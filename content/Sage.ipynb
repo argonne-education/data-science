{
 "cells": [
  {
   "cell_type": "markdown",
   "id": "d6c92179-778c-4539-b4e4-eb0c45cc4f5d",
   "metadata": {},
   "source": [
    "# Using Data from Argonne's Sage Sensor Network"
   ]
  },
  {
   "cell_type": "code",
   "execution_count": null,
   "id": "2cfbe05d-3016-4b9d-9bff-57d75b3a4052",
   "metadata": {},
   "outputs": [],
   "source": [
    "import pandas as pd\n",
    "import matplotlib.pyplot as plt\n",
    "from IPython.display import IFrame"
   ]
  },
  {
   "cell_type": "markdown",
   "id": "837085e4-3ee6-44e8-8e90-7f0587a538f9",
   "metadata": {},
   "source": [
    "In the first Notebook, we looked at the minimum and maximum temperatures in Chicago that happened over 95 years. In this notebook, instead of looking back in time, we are going to spread out in space, looking at multiple sensor locations across the Chicagoland area. This map shows the location of each of the Sage sensors:"
   ]
  },
  {
   "cell_type": "code",
   "execution_count": null,
   "id": "fcea16ed-2361-4a89-9e1a-c5ff1fb4a778",
   "metadata": {},
   "outputs": [],
   "source": [
    "%%html\n",
    "<iframe src=\"https://www.google.com/maps/d/u/0/embed?mid=1X-Fu4a_4N8RT5Lbj-FfPhTNeh1u6jE0&ehbc=2E312F\" width=\"640\" height=\"480\"></iframe>"
   ]
  },
  {
   "cell_type": "markdown",
   "id": "c302b45d-34e4-44e8-918f-d6bd977294a8",
   "metadata": {},
   "source": [
    "All the Sage nodes measure temperature, pressure, humidity and rainfall, and most also measure cloud cover and solar irradiance. Solar irradiance is the output of light energy from the entire disk of the Sun, measured at the Earth (NASA)."
   ]
  },
  {
   "cell_type": "code",
   "execution_count": null,
   "id": "39b34306-7669-45b7-975b-206aba1ea273",
   "metadata": {},
   "outputs": [],
   "source": []
  },
  {
   "cell_type": "code",
   "execution_count": null,
   "id": "b5a5a275-5497-4400-b56f-beea6a278430",
   "metadata": {},
   "outputs": [],
   "source": []
  }
 ],
 "metadata": {
  "kernelspec": {
   "display_name": "Python 3 (ipykernel)",
   "language": "python",
   "name": "python3"
  },
  "language_info": {
   "codemirror_mode": {
    "name": "ipython",
    "version": 3
   },
   "file_extension": ".py",
   "mimetype": "text/x-python",
   "name": "python",
   "nbconvert_exporter": "python",
   "pygments_lexer": "ipython3",
   "version": "3.9.12"
  }
 },
 "nbformat": 4,
 "nbformat_minor": 5
}
