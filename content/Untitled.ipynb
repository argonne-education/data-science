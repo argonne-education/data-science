{
 "cells": [
  {
   "cell_type": "code",
   "execution_count": 4,
   "id": "906c7b98-f71a-4903-a170-105dff3b596c",
   "metadata": {},
   "outputs": [],
   "source": [
    "import pandas as pd"
   ]
  },
  {
   "cell_type": "code",
   "execution_count": 5,
   "id": "02d089fa-ece4-4993-94a6-2ac2d2bad952",
   "metadata": {},
   "outputs": [],
   "source": [
    "df = pd.read_csv('https://www.ncei.noaa.gov/access/services/data/v1?dataset=global-marine&dataTypes=WIND_DIR,WIND_SPEED&stations=AUCE&startDate=2016-01-01&endDate=2016-01-02&boundingBox=90,-180,-90,180')"
   ]
  },
  {
   "cell_type": "code",
   "execution_count": 7,
   "id": "71731dc7-912b-450c-8f3e-ba72dea570d0",
   "metadata": {},
   "outputs": [
    {
     "data": {
      "text/html": [
       "<div>\n",
       "<style scoped>\n",
       "    .dataframe tbody tr th:only-of-type {\n",
       "        vertical-align: middle;\n",
       "    }\n",
       "\n",
       "    .dataframe tbody tr th {\n",
       "        vertical-align: top;\n",
       "    }\n",
       "\n",
       "    .dataframe thead th {\n",
       "        text-align: right;\n",
       "    }\n",
       "</style>\n",
       "<table border=\"1\" class=\"dataframe\">\n",
       "  <thead>\n",
       "    <tr style=\"text-align: right;\">\n",
       "      <th></th>\n",
       "      <th>STATION</th>\n",
       "      <th>DATE</th>\n",
       "      <th>LATITUDE</th>\n",
       "      <th>LONGITUDE</th>\n",
       "      <th>WIND_DIR</th>\n",
       "      <th>WIND_SPEED</th>\n",
       "    </tr>\n",
       "  </thead>\n",
       "  <tbody>\n",
       "    <tr>\n",
       "      <th>0</th>\n",
       "      <td>AUCE</td>\n",
       "      <td>2016-01-01T00:09:00</td>\n",
       "      <td>-20.2</td>\n",
       "      <td>57.5</td>\n",
       "      <td>90</td>\n",
       "      <td>40</td>\n",
       "    </tr>\n",
       "    <tr>\n",
       "      <th>1</th>\n",
       "      <td>AUCE</td>\n",
       "      <td>2016-01-01T21:09:00</td>\n",
       "      <td>-20.2</td>\n",
       "      <td>57.5</td>\n",
       "      <td>20</td>\n",
       "      <td>20</td>\n",
       "    </tr>\n",
       "    <tr>\n",
       "      <th>2</th>\n",
       "      <td>AUCE</td>\n",
       "      <td>2016-01-02T00:09:00</td>\n",
       "      <td>-20.2</td>\n",
       "      <td>57.5</td>\n",
       "      <td>350</td>\n",
       "      <td>20</td>\n",
       "    </tr>\n",
       "    <tr>\n",
       "      <th>3</th>\n",
       "      <td>AUCE</td>\n",
       "      <td>2016-01-02T03:09:00</td>\n",
       "      <td>-20.2</td>\n",
       "      <td>57.5</td>\n",
       "      <td>340</td>\n",
       "      <td>20</td>\n",
       "    </tr>\n",
       "    <tr>\n",
       "      <th>4</th>\n",
       "      <td>AUCE</td>\n",
       "      <td>2016-01-02T06:09:00</td>\n",
       "      <td>-20.2</td>\n",
       "      <td>57.5</td>\n",
       "      <td>350</td>\n",
       "      <td>30</td>\n",
       "    </tr>\n",
       "  </tbody>\n",
       "</table>\n",
       "</div>"
      ],
      "text/plain": [
       "  STATION                 DATE  LATITUDE  LONGITUDE  WIND_DIR  WIND_SPEED\n",
       "0    AUCE  2016-01-01T00:09:00     -20.2       57.5        90          40\n",
       "1    AUCE  2016-01-01T21:09:00     -20.2       57.5        20          20\n",
       "2    AUCE  2016-01-02T00:09:00     -20.2       57.5       350          20\n",
       "3    AUCE  2016-01-02T03:09:00     -20.2       57.5       340          20\n",
       "4    AUCE  2016-01-02T06:09:00     -20.2       57.5       350          30"
      ]
     },
     "execution_count": 7,
     "metadata": {},
     "output_type": "execute_result"
    }
   ],
   "source": [
    "df.head()"
   ]
  },
  {
   "cell_type": "code",
   "execution_count": 9,
   "id": "916a18a7-d0e5-4f25-9c28-7569011db5d8",
   "metadata": {},
   "outputs": [
    {
     "ename": "ModuleNotFoundError",
     "evalue": "No module named 'micropip'",
     "output_type": "error",
     "traceback": [
      "\u001b[0;31m---------------------------------------------------------------------------\u001b[0m",
      "\u001b[0;31mModuleNotFoundError\u001b[0m                       Traceback (most recent call last)",
      "Input \u001b[0;32mIn [9]\u001b[0m, in \u001b[0;36m<cell line: 1>\u001b[0;34m()\u001b[0m\n\u001b[0;32m----> 1\u001b[0m \u001b[38;5;28;01mimport\u001b[39;00m \u001b[38;5;21;01mmicropip\u001b[39;00m\n\u001b[1;32m      2\u001b[0m \u001b[38;5;28;01mawait\u001b[39;00m micropip\u001b[38;5;241m.\u001b[39minstall(pyarrow)\n",
      "\u001b[0;31mModuleNotFoundError\u001b[0m: No module named 'micropip'"
     ]
    }
   ],
   "source": [
    "import micropip\n",
    "await micropip.install(pyarrow)"
   ]
  },
  {
   "cell_type": "code",
   "execution_count": null,
   "id": "3b5bf8ca-7872-44c1-af62-0dd572b3365e",
   "metadata": {},
   "outputs": [],
   "source": []
  }
 ],
 "metadata": {
  "kernelspec": {
   "display_name": "Python 3 (ipykernel)",
   "language": "python",
   "name": "python3"
  },
  "language_info": {
   "codemirror_mode": {
    "name": "ipython",
    "version": 3
   },
   "file_extension": ".py",
   "mimetype": "text/x-python",
   "name": "python",
   "nbconvert_exporter": "python",
   "pygments_lexer": "ipython3",
   "version": "3.9.12"
  }
 },
 "nbformat": 4,
 "nbformat_minor": 5
}
